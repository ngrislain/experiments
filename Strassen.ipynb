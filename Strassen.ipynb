{
 "metadata": {
  "name": "",
  "signature": "sha256:f46e43b444c0b63e577956fefc628b727e17b1eabcfa91c44aca7e1b46b7a86b"
 },
 "nbformat": 3,
 "nbformat_minor": 0,
 "worksheets": [
  {
   "cells": [
    {
     "cell_type": "code",
     "collapsed": false,
     "input": [
      "import math\n",
      "import numpy as np\n",
      "# A class\n",
      "class E(object):\n",
      "    # Utility functions\n",
      "    @staticmethod\n",
      "    def unpair(i,j):\n",
      "        return (i+j)*(i+j+1)/2+j\n",
      "    @staticmethod\n",
      "    def pair(k):\n",
      "        if k!=None and k>=0:\n",
      "            w = int((math.sqrt(8*k+1)-1)/2)\n",
      "            t = (w**2+w)/2\n",
      "            return (w+t-k, k-t)\n",
      "        else:\n",
      "            return (None, None)\n",
      "    # The constructor\n",
      "    def __init__(self, i, j=None):\n",
      "        if i!=None:\n",
      "            if j!=None:\n",
      "                self.i = i\n",
      "                self.j = j\n",
      "                self.k = E.unpair(i,j)+1\n",
      "            else:\n",
      "                self.k = i\n",
      "                self.i, self.j = E.pair(self.k-1)\n",
      "        else:\n",
      "            self.i = None\n",
      "            self.j = None\n",
      "            self.k = 0\n",
      "    # A multiplication\n",
      "    def __mul__(self, e):\n",
      "        if self.i!=None and e.j!=None and self.j==e.i:\n",
      "            return E(self.i, e.j)\n",
      "        else:\n",
      "            return E(None, None)\n",
      "    def dense(self, n):\n",
      "        result = np.zeros((n,n))\n",
      "        if self.k!=None:\n",
      "            result[self.i, self.j] = 1\n",
      "        return result\n",
      "    def __repr__(self):\n",
      "        if self.k!=None:\n",
      "            return 'e_{},{}'.format(self.i, self.j)\n",
      "        else:\n",
      "            return '0'"
     ],
     "language": "python",
     "metadata": {},
     "outputs": [],
     "prompt_number": 21
    },
    {
     "cell_type": "code",
     "collapsed": false,
     "input": [
      "e = E(1,2)*E(2,3)\n",
      "print e.dense(5)"
     ],
     "language": "python",
     "metadata": {},
     "outputs": [
      {
       "output_type": "stream",
       "stream": "stdout",
       "text": [
        "[[ 0.  0.  0.  0.  0.]\n",
        " [ 0.  0.  0.  1.  0.]\n",
        " [ 0.  0.  0.  0.  0.]\n",
        " [ 0.  0.  0.  0.  0.]\n",
        " [ 0.  0.  0.  0.  0.]]\n"
       ]
      }
     ],
     "prompt_number": 22
    },
    {
     "cell_type": "heading",
     "level": 1,
     "metadata": {},
     "source": [
      "e = E(2,3)\n",
      "print e.k\n",
      "print e.i, e.j\n",
      "print E(19)\n",
      "print E(33)\n",
      "print E(19)*E(33)\n",
      "print E(100000)\n",
      "print (E(18)*E(32)).k"
     ]
    },
    {
     "cell_type": "code",
     "collapsed": false,
     "input": [
      "#matplotlib inline\n",
      "import matplotlib.pyplot as plt\n",
      "\n",
      "N = 100\n",
      "A = np.zeros((N,N))\n",
      "for i in xrange(N):\n",
      "    for j in xrange(N):\n",
      "        A[i,j] = (E(i)*E(j)).k\n",
      "\n",
      "plt.imshow(A)\n",
      "plt.show()"
     ],
     "language": "python",
     "metadata": {},
     "outputs": [],
     "prompt_number": 24
    },
    {
     "cell_type": "code",
     "collapsed": false,
     "input": [
      "A"
     ],
     "language": "python",
     "metadata": {},
     "outputs": [
      {
       "metadata": {},
       "output_type": "pyout",
       "prompt_number": 25,
       "text": [
        "array([[   0.,    0.,    0., ...,    0.,    0.,    0.],\n",
        "       [   0.,    1.,    0., ...,    0.,    0.,    0.],\n",
        "       [   0.,    2.,    0., ...,    0.,    0.,    0.],\n",
        "       ..., \n",
        "       [   0.,    0.,    0., ...,    0.,    0.,    0.],\n",
        "       [   0.,    0.,    0., ...,    0.,    0.,  113.],\n",
        "       [   0.,    0.,    0., ...,    0.,   85.,    0.]])"
       ]
      }
     ],
     "prompt_number": 25
    },
    {
     "cell_type": "heading",
     "level": 1,
     "metadata": {},
     "source": [
      "A new implementation"
     ]
    },
    {
     "cell_type": "code",
     "collapsed": false,
     "input": [
      "import math\n",
      "import numpy as np\n",
      "# A class\n",
      "class E(object):\n",
      "    N = 17\n",
      "    # Utility functions\n",
      "    @staticmethod\n",
      "    def unpair(i,j):\n",
      "        return i+E.N*j\n",
      "    @staticmethod\n",
      "    def pair(k):\n",
      "        if k!=None and k>=0:\n",
      "            return (k%E.N, k/E.N)\n",
      "        else:\n",
      "            return (None, None)\n",
      "    # The constructor\n",
      "    def __init__(self, i, j=None):\n",
      "        if i!=None:\n",
      "            if j!=None:\n",
      "                self.i = i\n",
      "                self.j = j\n",
      "                self.k = E.unpair(i,j)+1\n",
      "            else:\n",
      "                self.k = i\n",
      "                self.i, self.j = E.pair(self.k-1)\n",
      "        else:\n",
      "            self.i = None\n",
      "            self.j = None\n",
      "            self.k = 0\n",
      "    # A multiplication\n",
      "    def __mul__(self, e):\n",
      "        if self.i!=None and e.j!=None and self.j==e.i:\n",
      "            return E(self.i, e.j)\n",
      "        else:\n",
      "            return E(None, None)\n",
      "    def dense(self):\n",
      "        result = np.zeros((E.N,E.N))\n",
      "        if self.k!=None:\n",
      "            result[self.i, self.j] = 1\n",
      "        return result\n",
      "    def __repr__(self):\n",
      "        if self.k!=None:\n",
      "            return 'e_{},{}'.format(self.i, self.j)\n",
      "        else:\n",
      "            return '0'"
     ],
     "language": "python",
     "metadata": {},
     "outputs": [],
     "prompt_number": 54
    },
    {
     "cell_type": "code",
     "collapsed": false,
     "input": [
      "e = E(1,2)*E(2,3)\n",
      "print e.dense()"
     ],
     "language": "python",
     "metadata": {},
     "outputs": [
      {
       "output_type": "stream",
       "stream": "stdout",
       "text": [
        "[[ 0.  0.  0.  0.  0.  0.  0.  0.  0.  0.  0.  0.  0.  0.  0.  0.  0.]\n",
        " [ 0.  0.  0.  1.  0.  0.  0.  0.  0.  0.  0.  0.  0.  0.  0.  0.  0.]\n",
        " [ 0.  0.  0.  0.  0.  0.  0.  0.  0.  0.  0.  0.  0.  0.  0.  0.  0.]\n",
        " [ 0.  0.  0.  0.  0.  0.  0.  0.  0.  0.  0.  0.  0.  0.  0.  0.  0.]\n",
        " [ 0.  0.  0.  0.  0.  0.  0.  0.  0.  0.  0.  0.  0.  0.  0.  0.  0.]\n",
        " [ 0.  0.  0.  0.  0.  0.  0.  0.  0.  0.  0.  0.  0.  0.  0.  0.  0.]\n",
        " [ 0.  0.  0.  0.  0.  0.  0.  0.  0.  0.  0.  0.  0.  0.  0.  0.  0.]\n",
        " [ 0.  0.  0.  0.  0.  0.  0.  0.  0.  0.  0.  0.  0.  0.  0.  0.  0.]\n",
        " [ 0.  0.  0.  0.  0.  0.  0.  0.  0.  0.  0.  0.  0.  0.  0.  0.  0.]\n",
        " [ 0.  0.  0.  0.  0.  0.  0.  0.  0.  0.  0.  0.  0.  0.  0.  0.  0.]\n",
        " [ 0.  0.  0.  0.  0.  0.  0.  0.  0.  0.  0.  0.  0.  0.  0.  0.  0.]\n",
        " [ 0.  0.  0.  0.  0.  0.  0.  0.  0.  0.  0.  0.  0.  0.  0.  0.  0.]\n",
        " [ 0.  0.  0.  0.  0.  0.  0.  0.  0.  0.  0.  0.  0.  0.  0.  0.  0.]\n",
        " [ 0.  0.  0.  0.  0.  0.  0.  0.  0.  0.  0.  0.  0.  0.  0.  0.  0.]\n",
        " [ 0.  0.  0.  0.  0.  0.  0.  0.  0.  0.  0.  0.  0.  0.  0.  0.  0.]\n",
        " [ 0.  0.  0.  0.  0.  0.  0.  0.  0.  0.  0.  0.  0.  0.  0.  0.  0.]\n",
        " [ 0.  0.  0.  0.  0.  0.  0.  0.  0.  0.  0.  0.  0.  0.  0.  0.  0.]]\n"
       ]
      }
     ],
     "prompt_number": 55
    },
    {
     "cell_type": "code",
     "collapsed": false,
     "input": [
      "e = E(2,3)\n",
      "print e.k\n",
      "print e.i, e.j\n",
      "print E(19)\n",
      "print E(24)\n",
      "print E(19)*E(24)\n",
      "print E(10)\n",
      "print (E(19)*E(24)).k"
     ],
     "language": "python",
     "metadata": {},
     "outputs": [
      {
       "output_type": "stream",
       "stream": "stdout",
       "text": [
        "54\n",
        "2 3\n",
        "e_1,1\n",
        "e_6,1\n",
        "e_None,None\n",
        "e_9,0\n",
        "0\n"
       ]
      }
     ],
     "prompt_number": 56
    },
    {
     "cell_type": "code",
     "collapsed": false,
     "input": [
      "#matplotlib inline\n",
      "import matplotlib.pyplot as plt\n",
      "\n",
      "N = E.N*E.N+1\n",
      "A = np.zeros((N,N))\n",
      "for i in xrange(N):\n",
      "    for j in xrange(N):\n",
      "        A[i,j] = (E(i)*E(j)).k\n",
      "\n",
      "plt.imshow(A)\n",
      "plt.show()"
     ],
     "language": "python",
     "metadata": {},
     "outputs": [],
     "prompt_number": 58
    },
    {
     "cell_type": "code",
     "collapsed": false,
     "input": [],
     "language": "python",
     "metadata": {},
     "outputs": []
    }
   ],
   "metadata": {}
  }
 ]
}