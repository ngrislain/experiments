{
 "metadata": {
  "name": "",
  "signature": "sha256:e5b7881ba815dca10dccb9265ff42538b201dc3d1ba593a51b4077db0a023a10"
 },
 "nbformat": 3,
 "nbformat_minor": 0,
 "worksheets": [
  {
   "cells": [
    {
     "cell_type": "code",
     "collapsed": false,
     "input": [
      "import numpy as np"
     ],
     "language": "python",
     "metadata": {},
     "outputs": [],
     "prompt_number": 2
    },
    {
     "cell_type": "code",
     "collapsed": false,
     "input": [
      "class E(object):\n",
      "    def __init__(self, i, j):\n",
      "        if i!=None and j!=None:\n",
      "            self.data = (i,j)\n",
      "        else:\n",
      "            self.data = (None, None)\n",
      "    def __mul__(self, e):\n",
      "        if self.data[0]!=None and e.data[1]!=None and self.data[1]==e.data[0]:\n",
      "            return E(self.data[0], e.data[1])\n",
      "        else:\n",
      "            return E(None, None)\n",
      "    def dense(self, n):\n",
      "        result = np.zeros((n,n))\n",
      "        if self.data[0]!=None and self.data[1]!=None:\n",
      "            result[self.data] = 1\n",
      "        return result\n",
      "    def __repr__(self):\n",
      "        if self.data[0]!=None and self.data[1]!=None:\n",
      "            return 'e_{},{}'.format(*self.data)\n",
      "        else:\n",
      "            return '0'"
     ],
     "language": "python",
     "metadata": {},
     "outputs": [],
     "prompt_number": 26
    },
    {
     "cell_type": "code",
     "collapsed": false,
     "input": [
      "e = E(1,2)*E(2,3)\n",
      "print e.dense(5)"
     ],
     "language": "python",
     "metadata": {},
     "outputs": [
      {
       "output_type": "stream",
       "stream": "stdout",
       "text": [
        "[[ 0.  0.  0.  0.  0.]\n",
        " [ 0.  0.  0.  1.  0.]\n",
        " [ 0.  0.  0.  0.  0.]\n",
        " [ 0.  0.  0.  0.  0.]\n",
        " [ 0.  0.  0.  0.  0.]]\n"
       ]
      }
     ],
     "prompt_number": 27
    },
    {
     "cell_type": "code",
     "collapsed": false,
     "input": [
      "E(1,4)*E(2,3)"
     ],
     "language": "python",
     "metadata": {},
     "outputs": [
      {
       "metadata": {},
       "output_type": "pyout",
       "prompt_number": 29,
       "text": [
        "0"
       ]
      }
     ],
     "prompt_number": 29
    },
    {
     "cell_type": "code",
     "collapsed": false,
     "input": [],
     "language": "python",
     "metadata": {},
     "outputs": []
    }
   ],
   "metadata": {}
  }
 ]
}