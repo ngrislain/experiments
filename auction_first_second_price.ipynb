{
 "cells": [
  {
   "cell_type": "markdown",
   "metadata": {},
   "source": [
    "# Second price auction\n",
    "\n"
   ]
  },
  {
   "cell_type": "code",
   "execution_count": 4,
   "metadata": {
    "collapsed": true
   },
   "outputs": [],
   "source": [
    "%matplotlib inline"
   ]
  },
  {
   "cell_type": "code",
   "execution_count": 5,
   "metadata": {
    "collapsed": true
   },
   "outputs": [],
   "source": [
    "import numpy as np\n",
    "import matplotlib.pyplot as plt\n",
    "from scipy.stats import norm, lognorm"
   ]
  },
  {
   "cell_type": "code",
   "execution_count": 6,
   "metadata": {
    "collapsed": true
   },
   "outputs": [],
   "source": [
    "n = 10000\n",
    "b = np.linspace(0,100,n)"
   ]
  },
  {
   "cell_type": "markdown",
   "metadata": {},
   "source": [
    "## Optimal bidding without budget constraint\n",
    "\n",
    "We assume here:\n",
    "- no correlation between the bids in the market and the probability of a click,\n",
    "- and no budget constraint\n",
    "\n",
    "- $\\pi_{i}$ the expected profit of the bidder for auction $i$ in case of a first price auction\n",
    "- $\\sigma_{i}$ the expected profit of the bidder for auction $i$ in case of a second price auction\n",
    "- $\\pi$ the expected profit over the campaign in case of a first price auction\n",
    "- $\\sigma$ the expected profit over the campaign  in case of a second price auction\n",
    "- $B$ the budget constraint for the campaign\n",
    "- $f_i(b)$ the PDF of first bid except me\n",
    "- $F_i(b)$ the CDF of first bid except me\n",
    "- $c_i$ the click probability\n",
    "- $p_i$ the click price\n",
    "\n",
    "The expected profit $\\pi_i$ of the bidder for auction $i$ can be written.\n",
    "$$\\pi_i(b_i) = F_i(b_i)\\left(c_ip_i - b_i\\right)$$\n",
    "The FOC is:\n",
    "$$f_i(b_i)\\left(c_ip_i - b_i\\right) = F_i(b_i) \\Longleftrightarrow b_i + \\frac{F_i(b_i)}{f_i(b_i)} = c_ip_i = G(b_i)$$\n",
    "$$\\Longleftrightarrow b_i = G^{-1}(c_ip_i)$$\n",
    "\n",
    "The expected profit $\\sigma_i$ of the bidder for auction $i$ can be written.\n",
    "$$\\sigma_i(b_i) = \\int_0^{b_i}\\left(c_ip_i - b\\right)f_i(b)db$$\n",
    "The FOC is:\n",
    "$$f_i(b_i)\\left(c_ip_i - b_i\\right) = 0 \\Longleftrightarrow b_i = c_ip_i$$"
   ]
  },
  {
   "cell_type": "markdown",
   "metadata": {},
   "source": [
    "The expected second bid given a winning $b_i$ can be computed as:\n",
    "$$\\frac{\\int_0^{b_i}bf_i(b)db}{F_i(b_i)} = b_i-\\frac{\\int_0^{b_i}F_i(b)db}{F_i(b_i)}$$\n",
    "\n",
    "In a first price auction:\n",
    "$$b + \\frac{F(b)}{f(b)} - v = 0$$\n",
    "Let's look at $b$ as a function of $v$\n",
    "$$H(b,v) = b + \\frac{F(b)}{f(b)} - v = 0$$\n",
    "$$\\frac{\\partial}{\\partial b}H(b,v) = 2 - \\frac{F(b)f(b)^\\prime}{f(b)^2}$$\n",
    "$$\\frac{\\partial}{\\partial v}H(b,v) = -1$$\n",
    "$$\\frac{db}{dv} = \\frac{1}{2 - \\frac{F(b)f(b)^\\prime}{f(b)^2}} = \\frac{1}{2f(b)^2 - \\frac{F(b)f(b)^\\prime}{f(b)^2}}$$\n"
   ]
  },
  {
   "cell_type": "code",
   "execution_count": 3,
   "metadata": {
    "collapsed": false
   },
   "outputs": [
    {
     "name": "stderr",
     "output_type": "stream",
     "text": [
      "/usr/local/lib/python2.7/site-packages/ipykernel/__main__.py:13: RuntimeWarning: invalid value encountered in divide\n",
      "/usr/local/lib/python2.7/site-packages/ipykernel/__main__.py:26: RuntimeWarning: invalid value encountered in divide\n"
     ]
    }
   ],
   "source": [
    "n = 10000\n",
    "b = np.linspace(0,100,n)\n",
    "\n",
    "N = lognorm(scale=50, s=0.1)\n",
    "F = N.cdf(b)\n",
    "f = N.pdf(b)\n",
    "plt.plot(b,F)\n",
    "plt.plot(b,f)\n",
    "plt.show()\n",
    "\n",
    "plt.xlim(0,100)\n",
    "plt.plot(b, b)\n",
    "plt.plot(b+F/f, b)\n",
    "#plt.plot(b, b-np.cumsum(F)*(b[1]-b[0])/F)\n",
    "plt.show()\n",
    "\n",
    "N = lognorm(scale=50, s=3)\n",
    "F = N.cdf(b)\n",
    "f = N.pdf(b)\n",
    "plt.plot(b,F)\n",
    "plt.plot(b,f)\n",
    "plt.show()\n",
    "\n",
    "plt.xlim(0,100)\n",
    "plt.plot(b, b)\n",
    "plt.plot(b+F/f, b)\n",
    "#plt.plot(b, b-np.cumsum(F)*(b[1]-b[0])/F)\n",
    "plt.show()"
   ]
  },
  {
   "cell_type": "markdown",
   "metadata": {},
   "source": [
    "## Optimal bidding with budget constraint\n",
    "\n",
    "When adding the budget constraint, one gets the following maximization problems:\n",
    "$$\\pi = \\sum_i\\pi_i(b_i)$$ under constraint $$\\sum_ib_iF_i(b_i)<B$$\n",
    "and:\n",
    "$$\\sigma = \\sum_i\\sigma_i(b_i)$$ under constraint $$\\sum_i\\int_0^{b_i}bf_i(b)db<B$$\n",
    "KKT gives:\n",
    "$$\\forall i\\; \\pi_i^{\\prime}(b_i) = \\lambda \\left(b_if_i(b_i)+F_i(b_i)\\right)$$\n",
    "$$\\forall i\\; f_i(b_i)c_ip_i = b_if_i(b_i)+F_i(b_i)+\\lambda \\left(b_if_i(b_i)+F_i(b_i)\\right) \\Longleftrightarrow \\forall i\\; G(b_i) = \\frac{c_ip_i}{1+\\lambda}$$\n",
    "$$\\Longleftrightarrow b_i = G^{-1}\\left(\\frac{c_ip_i}{1+\\lambda}\\right)$$\n",
    "and:\n",
    "$$\\forall i\\; \\sigma_i^{\\prime}(b_i) = \\lambda \\left(b_if_i(b_i)\\right)$$\n",
    "$$\\forall i\\; f_i(b_i)c_ip_i = b_if_i(b_i)+\\lambda b_if_i(b_i) \\Longleftrightarrow \\forall i\\; b_i = \\frac{c_ip_i}{1+\\lambda}$$"
   ]
  },
  {
   "cell_type": "code",
   "execution_count": 7,
   "metadata": {
    "collapsed": false
   },
   "outputs": [
    {
     "data": {
      "image/png": "[encoded data removed]",
      "text/plain": [
       "<matplotlib.figure.Figure at 0x112f30990>"
      ]
     },
     "metadata": {},
     "output_type": "display_data"
    },
    {
     "name": "stderr",
     "output_type": "stream",
     "text": [
      "/usr/local/lib/python2.7/site-packages/ipykernel/__main__.py:12: RuntimeWarning: invalid value encountered in divide\n",
      "/usr/local/lib/python2.7/site-packages/ipykernel/__main__.py:14: RuntimeWarning: invalid value encountered in divide\n"
     ]
    },
    {
     "data": {
      "image/png": "[encoded data removed]",
      "text/plain": [
       "<matplotlib.figure.Figure at 0x11682c610>"
      ]
     },
     "metadata": {},
     "output_type": "display_data"
    }
   ],
   "source": [
    "n = 1000\n",
    "l = 2\n",
    "b = np.linspace(0,100,n)\n",
    "N = lognorm(scale=1, s=1)\n",
    "F = N.cdf(b)\n",
    "f = N.pdf(b)\n",
    "plt.plot(b,F)\n",
    "plt.plot(b,f)\n",
    "plt.show()\n",
    "\n",
    "plt.xlim(0,100)\n",
    "plt.plot(b+F/f, b, linestyle='--', color='orange')\n",
    "plt.plot(b, b, linestyle='--', color='blue')\n",
    "plt.plot(b+F/f, b/(1+l), color='orange')\n",
    "plt.plot(b, b/(1+l), color='blue')\n",
    "plt.show()"
   ]
  }
 ],
 "metadata": {
  "kernelspec": {
   "display_name": "Python 2",
   "language": "python",
   "name": "python2"
  },
  "language_info": {
   "codemirror_mode": {
    "name": "ipython",
    "version": 2
   },
   "file_extension": ".py",
   "mimetype": "text/x-python",
   "name": "python",
   "nbconvert_exporter": "python",
   "pygments_lexer": "ipython2",
   "version": "2.7.13"
  }
 },
 "nbformat": 4,
 "nbformat_minor": 2
}
